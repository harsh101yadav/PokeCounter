{
 "cells": [
  {
   "cell_type": "code",
   "execution_count": null,
   "metadata": {},
   "outputs": [],
   "source": [
    "import requests\n",
    "\n",
    "\n",
    "url = f\"https://pokeapi.co/api/v2/pokemon\"\n",
    "response = requests.get(url)\n",
    "if response.status_code == 200:\n",
    "    pokemon_data = response.json()\n",
    "    print(pokemon_data)\n",
    "else:\n",
    "    print(\"Failed to fetch data\")"
   ]
  },
  {
   "cell_type": "code",
   "execution_count": null,
   "metadata": {},
   "outputs": [],
   "source": [
    "typeweekness = {}\n",
    "typeweekness[\"Fire\"] = \"Water\"\n",
    "typeweekness[\"Water\"] = \"Electric\"\n",
    "typeweekness[\"Electric\"] = \"Ground\"\n",
    "\n",
    "# Print the dictionary\n",
    "print(\"Initial Dictionary:\", typeweekness)\n",
    "\n",
    "# Perform dictionary methods\n",
    "# Add a new key-value pair\n",
    "typeweekness[\"Grass\"] = \"Fire\"\n",
    "print(\"After adding 'Grass':\", typeweekness)\n",
    "\n",
    "# Remove a key-value pair\n",
    "del typeweekness[\"Fire\"]\n",
    "print(\"After removing 'Fire':\", typeweekness)\n",
    "\n",
    "# Get the value for a specific key\n",
    "print(\"Value for 'Water':\", typeweekness.get(\"Water\"))\n",
    "\n",
    "# Get all keys in the dictionary\n",
    "print(\"Keys:\", typeweekness.keys())\n",
    "\n",
    "# Get all values in the dictionary\n",
    "print(\"Values:\", typeweekness.values())"
   ]
  },
  {
   "cell_type": "code",
   "execution_count": null,
   "metadata": {},
   "outputs": [
    {
     "ename": "",
     "evalue": "",
     "output_type": "error",
     "traceback": [
      "\u001b[1;31mRunning cells with 'Python 3.12.3' requires the ipykernel package.\n",
      "\u001b[1;31mRun the following command to install 'ipykernel' into the Python environment. \n",
      "\u001b[1;31mCommand: 'c:/Users/harsh/AppData/Local/Microsoft/WindowsApps/python3.12.exe -m pip install ipykernel -U --user --force-reinstall'"
     ]
    }
   ],
   "source": [
    "import json\n",
    "\n",
    "with open('cleaned_data.json', 'r') as file:\n",
    "    data = json.load(file)\n",
    "\n",
    "normal_none = data[\"Normal\"][\"None\"]\n",
    "print(normal_none[\"Nor\"]) "
   ]
  },
  {
   "cell_type": "code",
   "execution_count": null,
   "metadata": {},
   "outputs": [],
   "source": []
  }
 ],
 "metadata": {
  "kernelspec": {
   "display_name": "Python 3",
   "language": "python",
   "name": "python3"
  },
  "language_info": {
   "name": "python",
   "version": "3.12.3"
  }
 },
 "nbformat": 4,
 "nbformat_minor": 2
}
