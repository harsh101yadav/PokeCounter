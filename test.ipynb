{
 "cells": [
  {
   "cell_type": "code",
   "execution_count": null,
   "metadata": {},
   "outputs": [],
   "source": [
    "import requests\n",
    "\n",
    "\n",
    "url = f\"https://pokeapi.co/api/v2/pokemon\"\n",
    "response = requests.get(url)\n",
    "if response.status_code == 200:\n",
    "    pokemon_data = response.json()\n",
    "    print(pokemon_data)\n",
    "else:\n",
    "    print(\"Failed to fetch data\")"
   ]
  },
  {
   "cell_type": "code",
   "execution_count": null,
   "metadata": {},
   "outputs": [],
   "source": []
  }
 ],
 "metadata": {
  "language_info": {
   "name": "python"
  }
 },
 "nbformat": 4,
 "nbformat_minor": 2
}
