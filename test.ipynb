{
 "cells": [
  {
   "cell_type": "code",
   "execution_count": null,
   "metadata": {},
   "outputs": [],
   "source": [
    "import requests\n",
    "\n",
    "\n",
    "url = f\"https://pokeapi.co/api/v2/pokemon\"\n",
    "response = requests.get(url)\n",
    "if response.status_code == 200:\n",
    "    pokemon_data = response.json()\n",
    "    print(pokemon_data)\n",
    "else:\n",
    "    print(\"Failed to fetch data\")"
   ]
  },
  {
   "cell_type": "code",
   "execution_count": null,
   "metadata": {},
   "outputs": [],
   "source": [
    "typeweekness = {}\n",
    "typeweekness[\"Fire\"] = \"Water\"\n",
    "typeweekness[\"Water\"] = \"Electric\"\n",
    "typeweekness[\"Electric\"] = \"Ground\"\n",
    "\n",
    "# Print the dictionary\n",
    "print(\"Initial Dictionary:\", typeweekness)\n",
    "\n",
    "# Perform dictionary methods\n",
    "# Add a new key-value pair\n",
    "typeweekness[\"Grass\"] = \"Fire\"\n",
    "print(\"After adding 'Grass':\", typeweekness)\n",
    "\n",
    "# Remove a key-value pair\n",
    "del typeweekness[\"Fire\"]\n",
    "print(\"After removing 'Fire':\", typeweekness)\n",
    "\n",
    "# Get the value for a specific key\n",
    "print(\"Value for 'Water':\", typeweekness.get(\"Water\"))\n",
    "\n",
    "# Get all keys in the dictionary\n",
    "print(\"Keys:\", typeweekness.keys())\n",
    "\n",
    "# Get all values in the dictionary\n",
    "print(\"Values:\", typeweekness.values())"
   ]
  },
  {
   "cell_type": "code",
   "execution_count": null,
   "metadata": {},
   "outputs": [],
   "source": []
  }
 ],
 "metadata": {
  "language_info": {
   "name": "python"
  }
 },
 "nbformat": 4,
 "nbformat_minor": 2
}
